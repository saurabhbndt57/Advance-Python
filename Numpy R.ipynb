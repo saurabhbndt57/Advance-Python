{
 "cells": [
  {
   "cell_type": "markdown",
   "id": "32bbad38-354d-41ce-b0cd-d3bb2f938f22",
   "metadata": {},
   "source": [
    "# Numpy"
   ]
  },
  {
   "cell_type": "code",
   "execution_count": 1,
   "id": "4cc72af5-d9d0-4d99-938a-9b4d6b311519",
   "metadata": {},
   "outputs": [],
   "source": [
    "# Numpy is open-source library of python and its use for the scientific calculations.\n",
    "\n",
    "# Why Numpy better than List?\n",
    "# (1). Homogeneous data type\n",
    "# (2). Less Memory Consumption\n",
    "# (3). Fast Execution"
   ]
  },
  {
   "cell_type": "code",
   "execution_count": 2,
   "id": "bee2c04e-d60c-4e7d-ae42-0b0677620e02",
   "metadata": {},
   "outputs": [
    {
     "name": "stdout",
     "output_type": "stream",
     "text": [
      "Requirement already satisfied: numpy in c:\\users\\saurabh\\appdata\\local\\programs\\python\\python313\\lib\\site-packages (2.2.0)\n"
     ]
    }
   ],
   "source": [
    "!pip install numpy"
   ]
  },
  {
   "cell_type": "code",
   "execution_count": 3,
   "id": "254e5a3e-f16e-43ba-a69d-e40c611ed555",
   "metadata": {},
   "outputs": [],
   "source": [
    "import numpy as np"
   ]
  },
  {
   "cell_type": "code",
   "execution_count": 4,
   "id": "ac571c13-3394-4ac5-a195-749ba6b62ead",
   "metadata": {},
   "outputs": [
    {
     "data": {
      "text/plain": [
       "list"
      ]
     },
     "execution_count": 4,
     "metadata": {},
     "output_type": "execute_result"
    }
   ],
   "source": [
    "a = [1,45,78,90]\n",
    "type(a)"
   ]
  },
  {
   "cell_type": "code",
   "execution_count": 5,
   "id": "9b825a37-3641-4e62-9a97-17f42936c05e",
   "metadata": {},
   "outputs": [
    {
     "data": {
      "text/plain": [
       "array([ 1, 45, 78, 90])"
      ]
     },
     "execution_count": 5,
     "metadata": {},
     "output_type": "execute_result"
    }
   ],
   "source": [
    "b = np.array(a)\n",
    "b"
   ]
  },
  {
   "cell_type": "code",
   "execution_count": 6,
   "id": "50d34e1a-1862-4c87-bdb8-d83ca91ffec3",
   "metadata": {},
   "outputs": [
    {
     "data": {
      "text/plain": [
       "1"
      ]
     },
     "execution_count": 6,
     "metadata": {},
     "output_type": "execute_result"
    }
   ],
   "source": [
    "b.ndim"
   ]
  },
  {
   "cell_type": "code",
   "execution_count": 7,
   "id": "fbbf7350-e984-4228-95e9-8c1af5d3fc90",
   "metadata": {},
   "outputs": [
    {
     "data": {
      "text/plain": [
       "array([[1, 2, 3],\n",
       "       [4, 5, 6],\n",
       "       [7, 8, 9]])"
      ]
     },
     "execution_count": 7,
     "metadata": {},
     "output_type": "execute_result"
    }
   ],
   "source": [
    "p = [[1,2,3],[4,5,6],[7,8,9]]\n",
    "q = np.array(p)\n",
    "q"
   ]
  },
  {
   "cell_type": "code",
   "execution_count": 9,
   "id": "0e9ec2a1-57e0-4d94-9425-fb10c1ee2d4c",
   "metadata": {},
   "outputs": [
    {
     "name": "stdout",
     "output_type": "stream",
     "text": [
      "Total Shape: (3, 3)\n",
      "Total Elements: 9\n",
      "Total Dimension: 2\n"
     ]
    }
   ],
   "source": [
    "print(\"Total Shape:\" , q.shape)  ## shape = rows, columns\n",
    "print(\"Total Elements:\" , q.size)  ## size = row*column\n",
    "print(\"Total Dimension:\" , q.ndim)  ## ndim = dimension 1-D(x), 2-D(x,y), 3D(x,y,z)"
   ]
  },
  {
   "cell_type": "code",
   "execution_count": 11,
   "id": "956d5ab9-128d-4d8e-a64a-dc669dc3f496",
   "metadata": {},
   "outputs": [
    {
     "name": "stdin",
     "output_type": "stream",
     "text": [
      "Enter total elements: 6\n",
      "Enter Number: 45\n",
      "Enter Number: 72\n",
      "Enter Number: 38\n",
      "Enter Number: 578\n",
      "Enter Number: 23\n",
      "Enter Number: 90\n"
     ]
    },
    {
     "data": {
      "text/plain": [
       "array([ 45,  72,  38, 578,  23,  90])"
      ]
     },
     "execution_count": 11,
     "metadata": {},
     "output_type": "execute_result"
    }
   ],
   "source": [
    "a = []\n",
    "size = int(input(\"Enter total elements:\"))\n",
    "for i in range(size):\n",
    "    val = int(input(\"Enter Number:\"))\n",
    "    a.append(val)\n",
    "b = np.array(a)\n",
    "b  "
   ]
  },
  {
   "cell_type": "markdown",
   "id": "b8fa117d-de1c-4f27-965a-13722a363f35",
   "metadata": {},
   "source": [
    "# Pre-Defined Functions in Numpy"
   ]
  },
  {
   "cell_type": "code",
   "execution_count": 12,
   "id": "c8aec9a1-68b2-43c5-aa82-5c5d2653906c",
   "metadata": {},
   "outputs": [],
   "source": [
    "# Matrix ---> rows , columns\n",
    "# Matrix ---> n(r)=n(c) ---> Symmatric Matrix , n(r)!=n(c) ---> Assymmatric Matrix\n",
    "# Diagonal Positional Elements = [(1,1)(2,2)(3,3)(4,4).....(n,n)]"
   ]
  },
  {
   "cell_type": "code",
   "execution_count": 13,
   "id": "ae069401-6419-4ce8-8814-9b04a00f893f",
   "metadata": {},
   "outputs": [],
   "source": [
    "# Zeroes() ---> It will create an array in which all the values will be 0."
   ]
  },
  {
   "cell_type": "code",
   "execution_count": 15,
   "id": "10d96eb7-a994-42f2-9174-bf4dcd4ba3b2",
   "metadata": {},
   "outputs": [
    {
     "data": {
      "text/plain": [
       "array([0., 0., 0.])"
      ]
     },
     "execution_count": 15,
     "metadata": {},
     "output_type": "execute_result"
    }
   ],
   "source": [
    "a = np.zeros(3)\n",
    "a"
   ]
  },
  {
   "cell_type": "code",
   "execution_count": 16,
   "id": "6135384d-8b93-4f87-ba4e-c9a754cbd5bb",
   "metadata": {},
   "outputs": [
    {
     "data": {
      "text/plain": [
       "array([[0., 0., 0., 0.],\n",
       "       [0., 0., 0., 0.],\n",
       "       [0., 0., 0., 0.]])"
      ]
     },
     "execution_count": 16,
     "metadata": {},
     "output_type": "execute_result"
    }
   ],
   "source": [
    "a = np.zeros((3,4))\n",
    "a"
   ]
  },
  {
   "cell_type": "code",
   "execution_count": null,
   "id": "31e50a56-0898-4786-8b64-502520fdbf65",
   "metadata": {},
   "outputs": [],
   "source": []
  },
  {
   "cell_type": "code",
   "execution_count": 17,
   "id": "e453734d-8a87-417c-b2e7-a9bf388335cf",
   "metadata": {},
   "outputs": [],
   "source": [
    "# (2). ones() ---> It will create an array  in which all values will be 1."
   ]
  },
  {
   "cell_type": "code",
   "execution_count": 24,
   "id": "57e4909c-c366-469c-8b4f-4692dd1c43bf",
   "metadata": {},
   "outputs": [
    {
     "data": {
      "text/plain": [
       "array([[1., 1., 1.],\n",
       "       [1., 1., 1.],\n",
       "       [1., 1., 1.]])"
      ]
     },
     "execution_count": 24,
     "metadata": {},
     "output_type": "execute_result"
    }
   ],
   "source": [
    "a = np.ones((3,3))\n",
    "a"
   ]
  },
  {
   "cell_type": "code",
   "execution_count": 25,
   "id": "a1d8e1a2-34aa-469e-8be3-72f10642c26f",
   "metadata": {},
   "outputs": [],
   "source": [
    "# (3). eye() ---> It will create an array in which diagonal position elements are 1."
   ]
  },
  {
   "cell_type": "code",
   "execution_count": 26,
   "id": "efbb524b-ba82-4042-8d78-fe24f4b6cbf1",
   "metadata": {},
   "outputs": [
    {
     "data": {
      "text/plain": [
       "array([[1., 0., 0.],\n",
       "       [0., 1., 0.],\n",
       "       [0., 0., 1.]])"
      ]
     },
     "execution_count": 26,
     "metadata": {},
     "output_type": "execute_result"
    }
   ],
   "source": [
    "a = np.eye(3)\n",
    "a"
   ]
  },
  {
   "cell_type": "code",
   "execution_count": 27,
   "id": "9aa6240e-e272-40b3-a4c3-346b04c9ac0f",
   "metadata": {},
   "outputs": [],
   "source": [
    "# (4). diag() ---> It will create an array of diiferent components in diagonal position."
   ]
  },
  {
   "cell_type": "code",
   "execution_count": 28,
   "id": "901fde0d-7a94-424d-b181-8ee5f40fe302",
   "metadata": {},
   "outputs": [
    {
     "data": {
      "text/plain": [
       "array([[ 2,  0,  0,  0,  0,  0],\n",
       "       [ 0, 56,  0,  0,  0,  0],\n",
       "       [ 0,  0, 45,  0,  0,  0],\n",
       "       [ 0,  0,  0, 87,  0,  0],\n",
       "       [ 0,  0,  0,  0, 36,  0],\n",
       "       [ 0,  0,  0,  0,  0, 62]])"
      ]
     },
     "execution_count": 28,
     "metadata": {},
     "output_type": "execute_result"
    }
   ],
   "source": [
    "a = np.array([2,56,45,87,36,62])\n",
    "b = np.diag(a)\n",
    "b"
   ]
  },
  {
   "cell_type": "code",
   "execution_count": 29,
   "id": "97e2b4c7-3c55-4b7b-bf7f-664454a754b2",
   "metadata": {},
   "outputs": [],
   "source": [
    "# (5). Random ---->\n",
    "# (a). Randint() ---> It will generate random numbers in a given range\n",
    "# syntax: np.random.randint(min_number, max_number, total numbers)\n",
    "\n",
    "# (b). Rand() ---> It will generate random numbers from 0 to 1.\n",
    "# syntax: np.random.rand(total_numbers)"
   ]
  },
  {
   "cell_type": "code",
   "execution_count": 32,
   "id": "9dec1cf9-3199-49b1-a079-4a6830adc548",
   "metadata": {},
   "outputs": [
    {
     "data": {
      "text/plain": [
       "array([4, 2, 9], dtype=int32)"
      ]
     },
     "execution_count": 32,
     "metadata": {},
     "output_type": "execute_result"
    }
   ],
   "source": [
    "a = np.random.randint(1,10,3)\n",
    "a"
   ]
  },
  {
   "cell_type": "code",
   "execution_count": 33,
   "id": "dc28ac94-0faf-4fa4-9c8b-fa8409bbb876",
   "metadata": {},
   "outputs": [
    {
     "data": {
      "text/plain": [
       "array([0.45320167, 0.49312125, 0.73302648, 0.68959441, 0.62595721])"
      ]
     },
     "execution_count": 33,
     "metadata": {},
     "output_type": "execute_result"
    }
   ],
   "source": [
    "b = np.random.rand(5)\n",
    "b"
   ]
  }
 ],
 "metadata": {
  "kernelspec": {
   "display_name": "Python 3 (ipykernel)",
   "language": "python",
   "name": "python3"
  },
  "language_info": {
   "codemirror_mode": {
    "name": "ipython",
    "version": 3
   },
   "file_extension": ".py",
   "mimetype": "text/x-python",
   "name": "python",
   "nbconvert_exporter": "python",
   "pygments_lexer": "ipython3",
   "version": "3.13.1"
  }
 },
 "nbformat": 4,
 "nbformat_minor": 5
}
